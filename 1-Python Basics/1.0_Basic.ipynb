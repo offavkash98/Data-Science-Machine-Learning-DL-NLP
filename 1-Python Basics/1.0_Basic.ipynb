{
 "cells": [
  {
   "cell_type": "markdown",
   "metadata": {},
   "source": [
    "## Syntax & Semantics in Python."
   ]
  },
  {
   "cell_type": "markdown",
   "metadata": {},
   "source": [
    "Singleline comments & Multiline comments \n",
    "Definition of Syntax & Semantics\n",
    "Basic Syntax Rules in Python.\n",
    "Understanding Semantics in Python\n",
    "Common Syntax Error & How to avoid them\n",
    "Practical Code Examples."
   ]
  },
  {
   "cell_type": "markdown",
   "metadata": {},
   "source": [
    "Syntax refers to the set of rules that defines the comination of symbols that are considered to be  currectly structued programs in language. In simpler term, syntax in about correct arrangement of words and symbols in a code.\n",
    "\n",
    "semantics refers to the meaning or the Interpretation of symbols,characters and command in language. It is about what the code suppose to do when it runs."
   ]
  },
  {
   "cell_type": "code",
   "execution_count": null,
   "metadata": {},
   "outputs": [],
   "source": [
    "# Basic syntax\n",
    "\n",
    "## python is case sensitive\n",
    "\n",
    "name='Avakash'\n",
    "Name='avakash'\n",
    "\n",
    "print(name)"
   ]
  },
  {
   "cell_type": "markdown",
   "metadata": {},
   "source": [
    "Indentation\n",
    "\n",
    "Indentation in python is used to define the and hierarchy of the code. Unlike many programming languages that use braces{} to delimit the block of code, Python uses indentation to determine the grouping of statements. This means that all the statements within the block must be indented at the same level."
   ]
  },
  {
   "cell_type": "code",
   "execution_count": null,
   "metadata": {},
   "outputs": [],
   "source": [
    "## Indentation \n",
    "# Python uses indentation to define block of code.\n",
    "\n",
    "age = 32 \n",
    "if age> 30:\n",
    "    print(age)\n",
    "print(age)    "
   ]
  },
  {
   "cell_type": "markdown",
   "metadata": {},
   "source": [
    "## Single line comment\n",
    "print(\"Hello world\")"
   ]
  },
  {
   "cell_type": "code",
   "execution_count": null,
   "metadata": {},
   "outputs": [],
   "source": [
    "## Line continuation\n",
    "## use (\\) to continue\n",
    "\n",
    "total = 1+2+3+4+5+\\\n",
    "1+2+3+4\n",
    "\n",
    "print(total)"
   ]
  },
  {
   "cell_type": "code",
   "execution_count": null,
   "metadata": {},
   "outputs": [],
   "source": [
    "## Multiple statement in single line\n",
    "\n",
    "x=2;y=10;k=4\n",
    "print(x)"
   ]
  },
  {
   "cell_type": "code",
   "execution_count": null,
   "metadata": {},
   "outputs": [],
   "source": [
    "## Understand semantics in python\n",
    "# Variable assign\n",
    "\n",
    "age = 32 # age is int\n",
    "name = 'Krish' #name is string    "
   ]
  },
  {
   "cell_type": "code",
   "execution_count": null,
   "metadata": {},
   "outputs": [],
   "source": [
    "## Type Inferance\n",
    "variable =10\n",
    "print(type(variable))\n",
    "variable='Avakash'\n",
    "print(type(variable))"
   ]
  }
 ],
 "metadata": {
  "kernelspec": {
   "display_name": "Python 3",
   "language": "python",
   "name": "python3"
  },
  "language_info": {
   "name": "python",
   "version": "3.10.0"
  }
 },
 "nbformat": 4,
 "nbformat_minor": 2
}
